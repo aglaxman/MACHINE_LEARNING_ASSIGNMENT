{
 "cells": [
  {
   "attachments": {},
   "cell_type": "markdown",
   "metadata": {},
   "source": [
    "                            Assignment_2"
   ]
  },
  {
   "attachments": {},
   "cell_type": "markdown",
   "metadata": {},
   "source": [
    "1. What is the concept of human learning? Please give two examples."
   ]
  },
  {
   "attachments": {},
   "cell_type": "markdown",
   "metadata": {},
   "source": [
    "Ans= Human learning is the process of gaining information . this information gain can be in form of a behavioural,educational or personal. two types of human learning can be visual learning where we see things , and then learn and retain information second is readingor writing based"
   ]
  },
  {
   "attachments": {},
   "cell_type": "markdown",
   "metadata": {},
   "source": [
    "2. What different forms of human learning are there? Are there any machine learning equivalents?"
   ]
  },
  {
   "attachments": {},
   "cell_type": "markdown",
   "metadata": {},
   "source": [
    "Ans= Studying under supervision, studying without supervision are some of the form of human learning , which is equivalent to supervised and unsupervised machine learning"
   ]
  },
  {
   "attachments": {},
   "cell_type": "markdown",
   "metadata": {},
   "source": [
    "3. What is machine learning, and how does it work? What are the key responsibilities of machine learning?"
   ]
  },
  {
   "attachments": {},
   "cell_type": "markdown",
   "metadata": {},
   "source": [
    "Ans= Machine learning is a subset of AI which provides mathematical tools to analyze data, do Exploatory data analysis, make predictive models and exposed APIs and more. Machine learning workes by providing the compiuter capability to make predictions or help analysis of data by creating complex algorithum models that are trained to work within constraints that have to be specified in traning data \n",
    "\n",
    "key Responsisbiltes of machine learning are highly specific to the domain in which it is being used "
   ]
  },
  {
   "attachments": {},
   "cell_type": "markdown",
   "metadata": {},
   "source": [
    "4. Define the terms \"penalty\" and \"reward\" in the context of reinforcement learning."
   ]
  },
  {
   "attachments": {},
   "cell_type": "markdown",
   "metadata": {},
   "source": [
    "Ans= Penalty is just like regularization term in logistic regression funcation that penalizes overfitting and underfitting . in reinforcement learning, a penalty is imposed in the training phase for every wrong predictions or classifications, in the other words it sets the algorithum one step back.A reward is gained for evry correct predictions aor classifications , which means the algorithum goes one step ahead towords making itself more effective . Hundreds of such itreations are performed over and over for the model to become ready "
   ]
  },
  {
   "attachments": {},
   "cell_type": "markdown",
   "metadata": {},
   "source": [
    "5. Explain the term \"learning as a search\"?"
   ]
  },
  {
   "attachments": {},
   "cell_type": "markdown",
   "metadata": {},
   "source": [
    "Ans= Parsing through a universal set of high cardinality , consisting of hypothesis that can be fit over a training data to find the best hypothesis is concept of learning as a search"
   ]
  },
  {
   "attachments": {},
   "cell_type": "markdown",
   "metadata": {},
   "source": [
    "6. What are the various goals of machine learning? What is the relationship between these and human learning?"
   ]
  },
  {
   "attachments": {},
   "cell_type": "markdown",
   "metadata": {},
   "source": [
    "Ans= Goals of machinne learning are to implement current existing algorithum over data to help analyze,explore,visualize,data and create interpretable and genrealizable algorithmic models for making predications over unseen data "
   ]
  },
  {
   "attachments": {},
   "cell_type": "markdown",
   "metadata": {},
   "source": [
    "7. Illustrate the various elements of machine learning using a real-life illustration."
   ]
  },
  {
   "attachments": {},
   "cell_type": "markdown",
   "metadata": {},
   "source": [
    "Ans= Student learning for a math exam may be the best example for this question.\n",
    "\n",
    "A side by side comparison is done below\n",
    "\n",
    "Machine learning starts with defining a problem statement ,a student too starts with a objective to study specified syllabus\n",
    "Data has be acquired for machine learning A student gathers books and other materials for study\n",
    "Data is then refined and cleaned to be used for EDA. A student also seperates or highlights out points and questions that re important Machine learning model then decussed to learn , Then machine learning model is tested over unseen data using a evaluation metric .A student also takes an exam and scores in evalation metrics than can be GPA, percentile or percentage\n"
   ]
  },
  {
   "attachments": {},
   "cell_type": "markdown",
   "metadata": {},
   "source": [
    "8. Provide an example of the abstraction method"
   ]
  },
  {
   "attachments": {},
   "cell_type": "markdown",
   "metadata": {},
   "source": [
    "Ans= Feature selections is done to reduce dimensionality by only selecting the most relavant and important features for our machine learning model to become more efficent,effective and interpretable . this remmoval of irrelevant or unimportant features from the dataset is one example of abstraction in machine learning"
   ]
  },
  {
   "attachments": {},
   "cell_type": "markdown",
   "metadata": {},
   "source": [
    "9. What is the concept of generalization? What function does it play in the machine learning process?"
   ]
  },
  {
   "attachments": {},
   "cell_type": "markdown",
   "metadata": {},
   "source": [
    "Ans= Generalization is the characteristic of a machine learning model that dicates how much variations in the input data regarding problem statement can a model handle. low generalization would mean that the model will not be able to give correct results over varied data, meaning overfitting or high variance . High generalization would mean that the model will be able to give correct result over varied data."
   ]
  },
  {
   "attachments": {},
   "cell_type": "markdown",
   "metadata": {},
   "source": [
    "10.What is classification, exactly? What are the main distinctions between classification and regression?"
   ]
  },
  {
   "attachments": {},
   "cell_type": "markdown",
   "metadata": {},
   "source": [
    "Ans= Classification is successful labeling of a datapoint out of a finite set of labels available for a dataset, using the independent features that have direct impact over what lable a datapoint would get"
   ]
  },
  {
   "attachments": {},
   "cell_type": "markdown",
   "metadata": {},
   "source": [
    "11. What is regression, and how does it work? Give an example of a real-world problem that was solved using regression."
   ]
  },
  {
   "attachments": {},
   "cell_type": "markdown",
   "metadata": {},
   "source": [
    "Ans= Regression is defined as predications of a value of a traget variable out of an infinite set of possible values , using one or more independent variables."
   ]
  },
  {
   "attachments": {},
   "cell_type": "markdown",
   "metadata": {},
   "source": [
    "12. Describe the clustering mechanism in detail."
   ]
  },
  {
   "attachments": {},
   "cell_type": "markdown",
   "metadata": {},
   "source": [
    "Ans= Clustering mechanism can be different based on the algorithum used.\n",
    "\n",
    "1)For K means clustering , Lloyd's algorithum as a mathematical approximation.First we pick K random data points and call them our centroids.\n",
    "\n",
    "2)for each data points nearest to a centroid,assign that data point to that  centroid and recompute centroid values.\n",
    "\n",
    "3)if old and calculated centroid values are the same or similar , then the old centroid goes on.Else, the calculated centroid becomes the new centroid.\n",
    "\n",
    "4)the above 2 steps are repeated until convergence is reached and evey data point is successfully assigned to a cluster."
   ]
  },
  {
   "attachments": {},
   "cell_type": "markdown",
   "metadata": {},
   "source": [
    "13. Make brief observations on two of the following topics:\n",
    "\n",
    "i. Machine learning algorithms are used:\n",
    "Ans= machine learnig algorithum are used for predicting the output or analysising the data by creating complex algorithum  based on the training data\n",
    "\n",
    "ii. Studying under supervision:\n",
    "Ans=studying under supervision involves learning or training with direct involvment of supervison\n",
    "\n",
    "iii. Studying without supervision:\n",
    "Ans=studying under supervision involves learning or training with direct involvment of supervison, self goal buliding is promated and self correction is required by using certain metrics to ensure correct path of progress . this also comes with its drawback in the form of slow progress and lack of input from supervisor to guide. \n",
    "\n",
    "iv. Reinforcement learning is a form of learning based on positive reinforcement.:\n",
    "Ans= Reinforcement learning requires reward in mathematical terms for the algorithm to incorporate the correct predictions made and progress further to get more effective. Incorrect predictions only hinder the growth of the algorithm as penalties are imposed. Hence, True progress of reinforcement learning comes from positive reinforcement."
   ]
  }
 ],
 "metadata": {
  "language_info": {
   "name": "python"
  },
  "orig_nbformat": 4
 },
 "nbformat": 4,
 "nbformat_minor": 2
}
