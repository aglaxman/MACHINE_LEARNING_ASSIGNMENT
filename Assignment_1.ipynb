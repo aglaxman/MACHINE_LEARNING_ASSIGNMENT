{
 "cells": [
  {
   "attachments": {},
   "cell_type": "markdown",
   "id": "6eaa81ed",
   "metadata": {},
   "source": [
    "                                            Assignment_1\n"
   ]
  },
  {
   "attachments": {},
   "cell_type": "markdown",
   "id": "2985077b",
   "metadata": {},
   "source": [
    "1.What does one mean by the term \"machine learning\"?"
   ]
  },
  {
   "attachments": {},
   "cell_type": "markdown",
   "id": "0e86eb12",
   "metadata": {},
   "source": [
    "Ans= Machine learning gives ability to a system to learning by it self with a help of traning data, with the help of the data the System(model) can predict the output, learning means it can be better at some task , inscrese performence using related data"
   ]
  },
  {
   "attachments": {},
   "cell_type": "markdown",
   "id": "5bc011fe",
   "metadata": {},
   "source": [
    "2.Can you think of 4 distinct types of issues where it shines?"
   ]
  },
  {
   "attachments": {},
   "cell_type": "markdown",
   "id": "85e73aa0",
   "metadata": {},
   "source": [
    "Ans= 1) detecting spam emails\n",
    "     2) self driving cars\n",
    "     3)cancer dignosis\n",
    "     4)recomandation in E-commerce\n",
    "    "
   ]
  },
  {
   "attachments": {},
   "cell_type": "markdown",
   "id": "eb5c2dbe",
   "metadata": {},
   "source": [
    "3.What is a labeled training set, and how does it work?"
   ]
  },
  {
   "attachments": {},
   "cell_type": "markdown",
   "id": "ea0e178c",
   "metadata": {},
   "source": [
    "Ans= labeled training set is data that has a particular tag that describes the particular features with a lable \n",
    "if we look on how it work then , lets take a example of car , car have lables like brand, color, shape, engine, etc. if we mention what type of car it is , what car it has , on which engine its run and what type of shape it has , then we are lableing the car with distint features \n"
   ]
  },
  {
   "attachments": {},
   "cell_type": "markdown",
   "id": "24e1c8f5",
   "metadata": {},
   "source": [
    "4.What are the two most important tasks that are supervised?"
   ]
  },
  {
   "attachments": {},
   "cell_type": "markdown",
   "id": "9d33b121",
   "metadata": {},
   "source": [
    "Ans= 1) Regression\n",
    "     2) Classification"
   ]
  },
  {
   "attachments": {},
   "cell_type": "markdown",
   "id": "7419a25a",
   "metadata": {},
   "source": [
    "5.Can you think of four examples of unsupervised tasks?"
   ]
  },
  {
   "attachments": {},
   "cell_type": "markdown",
   "id": "b1e1e16f",
   "metadata": {},
   "source": [
    "Ans= 1)Clustering\n",
    "     2)dimensionality reduction \n",
    "     3)visualization\n",
    "     4)association rule learning"
   ]
  },
  {
   "attachments": {},
   "cell_type": "markdown",
   "id": "bcfbe258",
   "metadata": {},
   "source": [
    "6.State the machine learning model that would be best to make a robot walk through various unfamiliar terrains?"
   ]
  },
  {
   "attachments": {},
   "cell_type": "markdown",
   "id": "12f13c6e",
   "metadata": {},
   "source": [
    "Ans=Reinforcement learning is best ,if we want Robot to walk through various unfamiliar terrains , as Reinforcement learning works on reward system , it best to perform action on any unfamiliar terrains "
   ]
  },
  {
   "attachments": {},
   "cell_type": "markdown",
   "id": "4ea3938f",
   "metadata": {},
   "source": [
    "7.Which algorithm will you use to divide your customers into different groups?"
   ]
  },
  {
   "attachments": {},
   "cell_type": "markdown",
   "id": "cb11048d",
   "metadata": {},
   "source": [
    "Ans= we can use both Unsupervised and supervised learning\n",
    "    ~ if we dont know how to group customers into various gropus then we can use Clustering algorithum(unsupervised), which will group the customers into various group based on there similarites\n",
    "    ~ if we know how to group customer in specific group then we can use Classification algorithum , and it will just classify all the customers into desirable groups "
   ]
  },
  {
   "attachments": {},
   "cell_type": "markdown",
   "id": "14678c2e",
   "metadata": {},
   "source": [
    "8.Will you consider the problem of spam detection to be a supervised or unsupervised learning problem?"
   ]
  },
  {
   "attachments": {},
   "cell_type": "markdown",
   "id": "3444022d",
   "metadata": {},
   "source": [
    "Ans= we can consider spam detection as supervised learning problem, the algorithum is fed by many emails with their lables(spam or not spam)"
   ]
  },
  {
   "attachments": {},
   "cell_type": "markdown",
   "id": "2842201f",
   "metadata": {},
   "source": [
    "9.What is the concept of an online learning system?"
   ]
  },
  {
   "attachments": {},
   "cell_type": "markdown",
   "id": "317090f2",
   "metadata": {},
   "source": [
    "Ans=An online learning system can learn incrementally, as opposed to a batch learning system. This makes it capable of adapting rapidly to both changing data and autonomous systems, and of training on very large quantities of data."
   ]
  },
  {
   "attachments": {},
   "cell_type": "markdown",
   "id": "aeb43cce",
   "metadata": {},
   "source": [
    "10.What is out-of-core learning, and how does it differ from core learning?"
   ]
  },
  {
   "attachments": {},
   "cell_type": "markdown",
   "id": "3d5a38a6",
   "metadata": {},
   "source": [
    "ans=Out-of-core algorithms can handle vast quantities of data that cannot fit in a computer’s main memory. An out-of-core learning algorithm chops the data into mini-batches and uses online learning techniques to learn from these mini-batches"
   ]
  },
  {
   "attachments": {},
   "cell_type": "markdown",
   "id": "5839d4aa",
   "metadata": {},
   "source": [
    "11.What kind of learning algorithm makes predictions using a similarity measure?"
   ]
  },
  {
   "attachments": {},
   "cell_type": "markdown",
   "id": "0329d7fc",
   "metadata": {},
   "source": [
    "Ans=An instance-based learning system learns the training data by heart; then, when given a new instance, it uses a similarity measure to find the most similar learned instances and uses them to make predictions"
   ]
  },
  {
   "attachments": {},
   "cell_type": "markdown",
   "id": "90b7714d",
   "metadata": {},
   "source": [
    "12.What's the difference between a model parameter and a hyperparameter in a learning algorithm?"
   ]
  },
  {
   "attachments": {},
   "cell_type": "markdown",
   "id": "1f34f50e",
   "metadata": {},
   "source": [
    "Ans=A model has one or more model parameters that determine what it will predict given a new instance (e.g., the slope of a linear model). A learning algorithm tries to find optimal values for these parameters such that the model generalizes well to new instances. A hyperparameter is a parameter of the learning algorithm itself, not of the model (e.g., the amount of regularization to apply)"
   ]
  },
  {
   "attachments": {},
   "cell_type": "markdown",
   "id": "ab58bbc5",
   "metadata": {},
   "source": [
    "13.What are the criteria that model-based learning algorithms look for? What is the most popular method they use to achieve success? What method do they use to make predictions?\n"
   ]
  },
  {
   "attachments": {},
   "cell_type": "markdown",
   "id": "10ce81bb",
   "metadata": {},
   "source": [
    "Ans=Model-based learning algorithms search for an optimal value for the model parameters such that the model will generalize well to new instances. We usually train such systems by minimizing a cost function that measures how bad the system is at making predictions on the training data, plus a penalty for model complexity if the model is regularized. To make predictions, we feed the new instance’s features into the model’s prediction function, using the parameter values found by the learning algorithm."
   ]
  },
  {
   "attachments": {},
   "cell_type": "markdown",
   "id": "93634cd9",
   "metadata": {},
   "source": [
    "14.Can you name four of the most important Machine Learning challenges?"
   ]
  },
  {
   "attachments": {},
   "cell_type": "markdown",
   "id": "02660a08",
   "metadata": {},
   "source": [
    "Ans=Some of the main challenges in Machine Learning are the lack of data, poor data quality, nonrepresentative data, uninformative features, excessively simple models that underfit the training data, and excessively complex models that overfit the data"
   ]
  },
  {
   "attachments": {},
   "cell_type": "markdown",
   "id": "8d0c3100",
   "metadata": {},
   "source": [
    "15.What happens if the model performs well on the training data but fails to generalize the results to new situations? Can you think of three different options?"
   ]
  },
  {
   "attachments": {},
   "cell_type": "markdown",
   "id": "e4a7c6ff",
   "metadata": {},
   "source": [
    "Ans=If a model performs great on the training data but generalizes poorly to new instances, the model is likely overfitting the training data (or we got extremely lucky on the training data). Possible solutions to overfitting are getting more data, simplifying the model (selecting a simpler algorithm, reducing the number of parameters or features used, or regularizing the model), or reducing the noise in the training data."
   ]
  },
  {
   "attachments": {},
   "cell_type": "markdown",
   "id": "7203c91a",
   "metadata": {},
   "source": [
    "16.What exactly is a test set, and why would you need one?"
   ]
  },
  {
   "attachments": {},
   "cell_type": "markdown",
   "id": "854cfb54",
   "metadata": {},
   "source": [
    "Ans=A test set is used to estimate the generalization error that a model will make on new instances, before the model is launched in production."
   ]
  },
  {
   "attachments": {},
   "cell_type": "markdown",
   "id": "46fa8397",
   "metadata": {},
   "source": [
    "17.What is a validation set's purpose?"
   ]
  },
  {
   "attachments": {},
   "cell_type": "markdown",
   "id": "80a851a1",
   "metadata": {},
   "source": [
    "Ans=A validation set is used to compare models. It makes it possible to select the best model and tune the hyperparameters."
   ]
  },
  {
   "attachments": {},
   "cell_type": "markdown",
   "id": "104a7917",
   "metadata": {},
   "source": [
    "18.What precisely is the train-dev kit, when will you need it, how do you put it to use?"
   ]
  },
  {
   "attachments": {},
   "cell_type": "markdown",
   "id": "cfcd5812",
   "metadata": {},
   "source": [
    "Ans=The train-dev set is used when there is a risk of mismatch between the training data and the data used in the validation and test datasets (which should always be as close as possible to the data used once the model is in production). The train-dev set is a part of the training set that’s held out (the model is not trained on it). The model is trained on the rest of the training set, and evaluated on both the train-dev set and the validation set. If the model performs well on the training set but not on the train-dev set, then the model is likely overfitting the training set. If it performs well on both the training set and the train-dev set, but not on the validation set, then there is probably a significant data mismatch between the training data and the validation + test data, and you should try to improve the training data to make it look more like the validation + test data."
   ]
  },
  {
   "attachments": {},
   "cell_type": "markdown",
   "id": "616d7914",
   "metadata": {},
   "source": [
    "19.What could go wrong if you use the test set to tune hyperparameters?"
   ]
  },
  {
   "attachments": {},
   "cell_type": "markdown",
   "id": "dca17a97",
   "metadata": {},
   "source": [
    "Ans=If you tune hyperparameters using the test set, you risk overfitting the test set, and the generalization error you measure will be optimistic (you may launch a model that performs worse than you expect)."
   ]
  }
 ],
 "metadata": {
  "kernelspec": {
   "display_name": "Python 3 (ipykernel)",
   "language": "python",
   "name": "python3"
  },
  "language_info": {
   "codemirror_mode": {
    "name": "ipython",
    "version": 3
   },
   "file_extension": ".py",
   "mimetype": "text/x-python",
   "name": "python",
   "nbconvert_exporter": "python",
   "pygments_lexer": "ipython3",
   "version": "3.10.11"
  }
 },
 "nbformat": 4,
 "nbformat_minor": 5
}
